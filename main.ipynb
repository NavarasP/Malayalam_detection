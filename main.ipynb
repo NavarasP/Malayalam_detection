{
 "cells": [
  {
   "cell_type": "code",
   "execution_count": 1,
   "metadata": {},
   "outputs": [],
   "source": [
    "import cv2\n",
    "import numpy as np\n",
    "import os\n",
    "from tqdm import tqdm \n",
    "from ocr import page, words"
   ]
  },
  {
   "cell_type": "code",
   "execution_count": 6,
   "metadata": {},
   "outputs": [
    {
     "name": "stdout",
     "output_type": "stream",
     "text": [
      "Total contours detected: 6\n"
     ]
    },
    {
     "name": "stderr",
     "output_type": "stream",
     "text": [
      "Processing Contours: 100%|██████████| 6/6 [00:00<00:00, 1004.70contour/s]"
     ]
    },
    {
     "name": "stdout",
     "output_type": "stream",
     "text": [
      "Character images and bounding box data saved successfully!\n"
     ]
    },
    {
     "name": "stderr",
     "output_type": "stream",
     "text": [
      "\n"
     ]
    }
   ],
   "source": [
    "import cv2\n",
    "import os\n",
    "import numpy as np\n",
    "from tqdm import tqdm\n",
    "import json\n",
    "\n",
    "output_folder = \"cropped_letters\"\n",
    "if not os.path.exists(output_folder):\n",
    "    os.makedirs(output_folder)\n",
    "\n",
    "image_path = r\"farp,small,wall_texture,product,750x1000.jpg\"\n",
    "image = cv2.imread(image_path)\n",
    "image = page.detection(image)  # Ensure `page.detection()` is correctly defined\n",
    "\n",
    "gray = cv2.cvtColor(image, cv2.COLOR_BGR2GRAY)\n",
    "_, thresh = cv2.threshold(gray, 120, 250, cv2.THRESH_BINARY_INV)\n",
    "\n",
    "contours, _ = cv2.findContours(thresh, cv2.RETR_EXTERNAL, cv2.CHAIN_APPROX_SIMPLE)\n",
    "print(f\"Total contours detected: {len(contours)}\")\n",
    "\n",
    "bounding_boxes = []\n",
    "padding = 10  \n",
    "\n",
    "for i, contour in tqdm(enumerate(contours), total=len(contours), desc=\"Processing Contours\", unit=\"contour\"):\n",
    "    x, y, w, h = cv2.boundingRect(contour)\n",
    "    \n",
    "    if w > 10 and h > 10 and cv2.contourArea(contour) > 50:  \n",
    "        x_pad = max(x - padding, 0)\n",
    "        y_pad = max(y - padding, 0)\n",
    "        w_pad = min(x + w + padding, image.shape[1]) - x_pad\n",
    "        h_pad = min(y + h + padding, image.shape[0]) - y_pad\n",
    "        \n",
    "        letter = image[y_pad:y_pad+h_pad, x_pad:x_pad+w_pad]\n",
    "        letter_gray = cv2.cvtColor(letter, cv2.COLOR_BGR2GRAY)\n",
    "        _, letter_thresh = cv2.threshold(letter_gray, 160, 255, cv2.THRESH_BINARY_INV)\n",
    "\n",
    "        letter_alpha = cv2.merge((letter_thresh, letter_thresh, letter_thresh, letter_thresh))\n",
    "\n",
    "        filename = os.path.join(output_folder, f'letter_{len(bounding_boxes) + 1}.png')\n",
    "        cv2.imwrite(filename, letter_alpha)\n",
    "\n",
    "        bounding_boxes.append({\n",
    "            \"x\": x_pad, \"y\": y_pad, \"w\": w_pad, \"h\": h_pad,\n",
    "            \"filename\": filename\n",
    "        })\n",
    "\n",
    "# Save bounding box data\n",
    "with open(os.path.join(output_folder, \"bounding_boxes.json\"), \"w\") as f:\n",
    "    json.dump(bounding_boxes, f)\n",
    "\n",
    "print(\"Character images and bounding box data saved successfully!\")\n"
   ]
  },
  {
   "cell_type": "markdown",
   "metadata": {},
   "source": []
  },
  {
   "cell_type": "code",
   "execution_count": 3,
   "metadata": {},
   "outputs": [],
   "source": [
    "import tensorflow as tf\n",
    "from tensorflow.keras.preprocessing.image import ImageDataGenerator\n"
   ]
  },
  {
   "cell_type": "code",
   "execution_count": 4,
   "metadata": {},
   "outputs": [],
   "source": [
    "# model = tf.keras.models.load_model('malayalam_handwriting_model.h5')"
   ]
  },
  {
   "cell_type": "code",
   "execution_count": 5,
   "metadata": {},
   "outputs": [],
   "source": [
    "def preprocessing_fun(img):\n",
    "    img=np.where(img>0.5,1,0)\n",
    "    return img"
   ]
  },
  {
   "cell_type": "code",
   "execution_count": 6,
   "metadata": {},
   "outputs": [],
   "source": [
    "test_datagen = ImageDataGenerator(preprocessing_function=preprocessing_fun)"
   ]
  },
  {
   "cell_type": "code",
   "execution_count": 7,
   "metadata": {},
   "outputs": [
    {
     "name": "stdout",
     "output_type": "stream",
     "text": [
      "Found 0 images belonging to 0 classes.\n"
     ]
    }
   ],
   "source": [
    "test_generator = test_datagen.flow_from_directory(\n",
    "        'cropped_letters',\n",
    "        target_size=(128,128),\n",
    "        batch_size=1,\n",
    "        class_mode='categorical',color_mode=\"grayscale\"\n",
    ")"
   ]
  },
  {
   "cell_type": "code",
   "execution_count": 4,
   "metadata": {},
   "outputs": [],
   "source": [
    "from tensorflow.keras.models import load_model\n",
    "import pickle\n",
    "from tqdm import tqdm\n",
    "\n",
    "import glob\n"
   ]
  },
  {
   "cell_type": "code",
   "execution_count": 5,
   "metadata": {},
   "outputs": [],
   "source": [
    "test_fold=sorted(glob.glob(\"cropped_letters/*\"))"
   ]
  },
  {
   "cell_type": "code",
   "execution_count": 7,
   "metadata": {},
   "outputs": [
    {
     "name": "stderr",
     "output_type": "stream",
     "text": [
      "WARNING:absl:Compiled the loaded model, but the compiled metrics have yet to be built. `model.compile_metrics` will be empty until you train or evaluate the model.\n",
      "WARNING:absl:Error in loading the saved optimizer state. As a result, your model is starting with a freshly initialized optimizer.\n"
     ]
    },
    {
     "name": "stdout",
     "output_type": "stream",
     "text": [
      "Keras model loaded successfully!\n",
      "Pickle model, tokenizer, and label encoder loaded successfully!\n"
     ]
    }
   ],
   "source": [
    "model = load_model(\"D:\\Projects\\AIML\\DIGILIPI\\Malayalam_detection.h5\")\n",
    "print(\"Keras model loaded successfully!\")\n",
    "max_length = 100 \n",
    "\n",
    "\n",
    "with open(\"detail.pkl\", 'rb') as f:\n",
    "    loaded_pickle_data = pickle.load(f)\n",
    "\n",
    "# model = model_from_json(loaded_pickle_data['model'])\n",
    "# model.set_weights(loaded_pickle_data['weights'])\n",
    "\n",
    "# tokenizer = loaded_pickle_data['tokenizer']\n",
    "class_labels = loaded_pickle_data['class_labels']\n",
    "\n",
    "print(\"Pickle model, tokenizer, and label encoder loaded successfully!\")\n",
    "from sklearn.metrics import classification_report\n",
    "target_names = loaded_pickle_data['target_names']\n",
    "# target_names = loaded_pickle_data['target_names']\n",
    "\n",
    "\n"
   ]
  },
  {
   "cell_type": "code",
   "execution_count": 8,
   "metadata": {},
   "outputs": [
    {
     "name": "stdout",
     "output_type": "stream",
     "text": [
      "Recognized text saved to 'recognized_text.txt' ✅\n"
     ]
    }
   ],
   "source": [
    "import cv2\n",
    "import os\n",
    "import json\n",
    "import numpy as np\n",
    "import glob\n",
    "\n",
    "# Load bounding box data\n",
    "with open(\"cropped_letters/bounding_boxes.json\", \"r\") as f:\n",
    "    bounding_boxes = json.load(f)\n",
    "\n",
    "# Sort bounding boxes by position (top to bottom, then left to right)\n",
    "bounding_boxes.sort(key=lambda b: (b[\"y\"], b[\"x\"]))\n",
    "\n",
    "# Load cropped images for prediction\n",
    "test_fold = sorted(glob.glob(\"cropped_letters/*.png\"))\n",
    "\n",
    "y_pred = []\n",
    "file_list = []\n",
    "\n",
    "for img, box in zip(test_fold, bounding_boxes):  # Ensure correct mapping\n",
    "    i = cv2.imread(img, cv2.IMREAD_GRAYSCALE)\n",
    "    i = cv2.resize(i, (128, 128), interpolation=cv2.INTER_LINEAR)\n",
    "    \n",
    "    # Prepare for model prediction\n",
    "    i = np.reshape(i, (1, 128, 128, 1))\n",
    "\n",
    "    prediction = model.predict(i, verbose=0)\n",
    "    p = np.argmax(prediction[0])\n",
    "    \n",
    "    recognized_char = target_names[p]  # Get the predicted character\n",
    "    y_pred.append((box[\"y\"], box[\"x\"], recognized_char))  # Store with position\n",
    "\n",
    "# Sort predictions based on position (y first, then x)\n",
    "y_pred.sort()\n",
    "\n",
    "# Extract only characters in sorted order\n",
    "recognized_text = \"\".join([char for _, _, char in y_pred])\n",
    "\n",
    "# Save to text file\n",
    "with open(\"recognized_text.txt\", \"w\", encoding=\"utf-8\") as f:\n",
    "    f.write(recognized_text)\n",
    "\n",
    "print(\"Recognized text saved to 'recognized_text.txt' ✅\")\n"
   ]
  },
  {
   "cell_type": "code",
   "execution_count": 13,
   "metadata": {},
   "outputs": [
    {
     "name": "stdout",
     "output_type": "stream",
     "text": [
      "ഛ\n"
     ]
    }
   ],
   "source": [
    "print(target_names[26])\n"
   ]
  },
  {
   "cell_type": "code",
   "execution_count": null,
   "metadata": {},
   "outputs": [],
   "source": []
  }
 ],
 "metadata": {
  "kernelspec": {
   "display_name": "env",
   "language": "python",
   "name": "python3"
  },
  "language_info": {
   "codemirror_mode": {
    "name": "ipython",
    "version": 3
   },
   "file_extension": ".py",
   "mimetype": "text/x-python",
   "name": "python",
   "nbconvert_exporter": "python",
   "pygments_lexer": "ipython3",
   "version": "3.10.0"
  }
 },
 "nbformat": 4,
 "nbformat_minor": 2
}
